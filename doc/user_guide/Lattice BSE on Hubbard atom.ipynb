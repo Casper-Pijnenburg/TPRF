{
 "cells": [
  {
   "cell_type": "markdown",
   "metadata": {},
   "source": [
    "# Lattice Bethe-Salpeter Equation (BSE) on the Hubbard atom\n",
    "\n",
    "First we setup a dispersion for the lattice.\n",
    "\n",
    "This can be done using a tight-binding Hamiltonian, see the square lattice guide."
   ]
  },
  {
   "cell_type": "code",
   "execution_count": 2,
   "metadata": {},
   "outputs": [],
   "source": [
    "from triqs_tprf.analytic_hubbard_atom import analytic_hubbard_atom\n",
    "\n",
    "p = analytic_hubbard_atom(\n",
    "    beta = 1.234,\n",
    "    U = 5.0,\n",
    "    nw = 1,\n",
    "    nwf = 248,\n",
    "    nwf_gf = 2 * 248,\n",
    "    )"
   ]
  },
  {
   "cell_type": "code",
   "execution_count": 3,
   "metadata": {},
   "outputs": [],
   "source": [
    "from pytriqs.lattice import BrillouinZone, BravaisLattice\n",
    "bl = BravaisLattice([(1,0,0), (0,1,0)])\n",
    "bz = BrillouinZone(bl)    \n",
    "\n",
    "from pytriqs.gf import MeshBrillouinZone\n",
    "bzmesh = MeshBrillouinZone(bz, n_k=1) # only one k-point\n",
    "\n",
    "from pytriqs.gf import Gf\n",
    "e_k = Gf(mesh=bzmesh, target_shape=[1, 1])\n",
    "e_k *= 0."
   ]
  },
  {
   "cell_type": "code",
   "execution_count": 4,
   "metadata": {},
   "outputs": [
    {
     "data": {
      "text/plain": [
       "Green Function G_dn with mesh Matsubara Freq Mesh of size 992, Domain: Matsubara domain with beta = 1.234, statistic = Fermion, positive_only : 0 and target_rank 2: "
      ]
     },
     "execution_count": 4,
     "metadata": {},
     "output_type": "execute_result"
    }
   ],
   "source": [
    "Sigma_iw = p.G_iw.copy()\n",
    "G0_iw = p.G_iw.copy()\n",
    "\n",
    "from pytriqs.gf import inverse, iOmega_n\n",
    "G0_iw << inverse(iOmega_n + 0.5*U)\n",
    "Sigma_iw << inverse(G0_iw) - inverse(p.G_iw)"
   ]
  },
  {
   "cell_type": "code",
   "execution_count": 5,
   "metadata": {},
   "outputs": [],
   "source": [
    "from triqs_tprf.lattice import lattice_dyson_g_wk\n",
    "g_wk = lattice_dyson_g_wk(mu=0.5*U, e_k=e_k, sigma_w=Sigma_iw)\n",
    "\n",
    "from triqs_tprf.lattice import fourier_wk_to_wr\n",
    "g_wr = fourier_wk_to_wr(g_wk)"
   ]
  },
  {
   "cell_type": "code",
   "execution_count": 7,
   "metadata": {},
   "outputs": [],
   "source": [
    "# ------------------------------------------------------------------\n",
    "# -- Non-interacting generalized lattice susceptibility\n",
    "\n",
    "from triqs_tprf.lattice import chi0r_from_gr_PH\n",
    "chi0_wr = chi0r_from_gr_PH(nw=nw, nnu=nwf, gr=g_wr) \n",
    "\n",
    "from triqs_tprf.lattice import chi0q_from_chi0r\n",
    "chi0_wk = chi0q_from_chi0r(chi0_wr)"
   ]
  },
  {
   "cell_type": "code",
   "execution_count": 9,
   "metadata": {},
   "outputs": [],
   "source": [
    "# ------------------------------------------------------------------\n",
    "# -- Solve lattice BSE\n",
    "\n",
    "from triqs_tprf.lattice import chiq_from_chi0q_and_gamma_PH\n",
    "chi_wk = chiq_from_chi0q_and_gamma_PH(chi0_wk, p.gamma_m)\n",
    "\n",
    "# ------------------------------------------------------------------\n",
    "# -- Store results and static results\n",
    "\n",
    "#num = np.squeeze(parm.chi_wk.data.real)\n",
    "#ref = np.squeeze(parm.chi_m.data.real)\n",
    "\n",
    "#diff = np.max(np.abs(num - ref))\n",
    "#print 'diff =', diff\n",
    "\n",
    "#parm.chi_w = chiq_sum_nu_q(parm.chi_wk) # static suscept\n",
    "\n",
    "#return parm"
   ]
  },
  {
   "cell_type": "code",
   "execution_count": null,
   "metadata": {},
   "outputs": [],
   "source": []
  }
 ],
 "metadata": {
  "kernelspec": {
   "display_name": "Python 2",
   "language": "python",
   "name": "python2"
  },
  "language_info": {
   "codemirror_mode": {
    "name": "ipython",
    "version": 2
   },
   "file_extension": ".py",
   "mimetype": "text/x-python",
   "name": "python",
   "nbconvert_exporter": "python",
   "pygments_lexer": "ipython2",
   "version": "2.7.15"
  }
 },
 "nbformat": 4,
 "nbformat_minor": 2
}

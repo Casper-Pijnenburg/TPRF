{
 "cells": [
  {
   "cell_type": "code",
   "execution_count": 1,
   "metadata": {},
   "outputs": [],
   "source": [
    "import os\n",
    "\n",
    "import numpy as np\n",
    "import pandas as pd\n",
    "import matplotlib.pyplot as plt"
   ]
  },
  {
   "cell_type": "code",
   "execution_count": 2,
   "metadata": {},
   "outputs": [],
   "source": [
    "#plt.style.use('notebook_style')"
   ]
  },
  {
   "cell_type": "code",
   "execution_count": 3,
   "metadata": {},
   "outputs": [],
   "source": [
    "def get_memory(filename):\n",
    "\n",
    "    with open(filename) as file:\n",
    "        \n",
    "        lines = file.readlines()\n",
    "        columns = lines[0].split()\n",
    "        \n",
    "        data = []\n",
    "        \n",
    "        for line in lines[1:]:\n",
    "            data.append([float(ele) for ele in line.split()[1:]])\n",
    "\n",
    "    memory = pd.DataFrame(data, columns=columns)\n",
    "    \n",
    "    return memory"
   ]
  },
  {
   "cell_type": "code",
   "execution_count": 4,
   "metadata": {},
   "outputs": [],
   "source": [
    "memory = get_memory('./test.txt')"
   ]
  },
  {
   "cell_type": "code",
   "execution_count": 5,
   "metadata": {},
   "outputs": [
    {
     "data": {
      "image/png": "[encoded data removed]",
      "text/plain": [
       "<Figure size 432x288 with 1 Axes>"
      ]
     },
     "metadata": {},
     "output_type": "display_data"
    }
   ],
   "source": [
    "fig = plt.figure()\n",
    "ax = fig.add_subplot(111)\n",
    "\n",
    "ax.plot(list(memory['used']-100)[13:], \"--\")\n",
    "\n",
    "\n",
    "ax.set_xlabel('Time [s]')\n",
    "ax.set_ylabel('Memory [Gb]', rotation=90)\n",
    "#ax.yaxis.labelpad = 55\n",
    "\n",
    "\n",
    "ax.set_xticks([ele*10 for ele in [0.0, 4.0, 8.0]])\n",
    "ax.set_xticklabels(['0.0', '4.0', '8.0'])\n",
    "ax.set_yticks([ele*1024 for ele in [4.4, 4.8, 5.2]])\n",
    "ax.set_yticklabels(['4.4', '4.8', '5.2'])\n",
    "\n",
    "ax.set_xlim(0, 80)\n",
    "\n",
    "#plt.annotate('Before', xy=(.55,.62), xycoords=\"axes fraction\", size=20, color='C0')\n",
    "#plt.annotate('After', xy=(.55,.25), xycoords=\"axes fraction\", size=20, color='C1')\n",
    "\n",
    "ax.spines['right'].set_visible(False)\n",
    "ax.spines['top'].set_visible(False)\n",
    "\n",
    "#ax.spines['bottom'].set_bounds(0, 80)\n",
    "#ax.spines['left'].set_bounds(4.4*1024, 5.2*1024)\n",
    "#ax.spines['left'].set_position(('axes', -0.05))\n",
    "\n",
    "#plt.savefig('')"
   ]
  },
  {
   "cell_type": "code",
   "execution_count": null,
   "metadata": {},
   "outputs": [],
   "source": []
  }
 ],
 "metadata": {
  "kernelspec": {
   "display_name": "Python 2",
   "language": "python",
   "name": "python2"
  },
  "language_info": {
   "codemirror_mode": {
    "name": "ipython",
    "version": 2
   },
   "file_extension": ".py",
   "mimetype": "text/x-python",
   "name": "python",
   "nbconvert_exporter": "python",
   "pygments_lexer": "ipython2",
   "version": "2.7.15"
  }
 },
 "nbformat": 4,
 "nbformat_minor": 2
}
